{
 "cells": [
  {
   "cell_type": "code",
   "execution_count": 1,
   "metadata": {
    "collapsed": true,
    "pycharm": {
     "name": "#%%\n"
    }
   },
   "outputs": [],
   "source": [
    "import os\n",
    "from label_data_utilities import *\n",
    "from data_utilities import *\n",
    "\n",
    "pd.set_option('display.max_columns', None)\n",
    "pd.set_option('display.max_colwidth', None)\n",
    "pd.set_option('display.width', 2000)\n",
    "\n",
    "# Experiment data and labels directories\n",
    "data_dir = os.path.join('..', 'static', 'data')\n",
    "my_data_dir = os.path.join(data_dir, 'my_dialogues')\n",
    "user_data_dir = os.path.join(data_dir, 'user_dialogues')\n",
    "labels_dir = os.path.join(data_dir, 'labels')\n",
    "\n",
    "# Processed data and label data directories\n",
    "results_dir = 'results'\n",
    "label_data_dir = 'label_data'\n",
    "\n",
    "# Paths to label agreement, timing and confidence rating data\n",
    "agreement_data_dir = os.path.join(results_dir, 'agreement_data')\n",
    "\n",
    "# Load the user data and labels\n",
    "user_data = load_user_data(user_data_dir)\n",
    "labels = load_labels(labels_dir, user_data)\n",
    "\n",
    "# List of sets\n",
    "sets_list = ['set_1', 'set_2', 'set_3', 'set_4', 'set_5']\n",
    "\n",
    "# Lists of dialogue corpora and groups\n",
    "dialogue_groups = dict()\n",
    "dialogue_groups['practice_dialogue'] = ['practice']\n",
    "dialogue_groups['kvret_dialogues'] = ['test_28', 'test_52', 'test_96', 'test_129', 'test_102']\n",
    "dialogue_groups['babl_dialogues'] = ['task1_test_290', 'task1_test_428', 'task1_test_555', 'task1_test_564', 'task1_test_894']\n",
    "dialogue_groups['task-oriented_dialogues'] = dialogue_groups['kvret_dialogues'] + dialogue_groups['babl_dialogues']\n",
    "\n",
    "dialogue_groups['scose_dialogues'] = ['jason-mammoth', 'jason-clone', 'jason-accident', 'lynne-hunter', 'lynne-tipsy']\n",
    "dialogue_groups['cabnc_dialogues'] = ['KB7RE015', 'KBKRE03G', 'KDARE00G', 'KE2RE00Y', 'KBERE00G']\n",
    "dialogue_groups['non-task-oriented_dialogues'] = dialogue_groups['scose_dialogues'] + dialogue_groups['cabnc_dialogues']\n",
    "\n",
    "dialogue_type_groups = ['task-oriented_dialogues', 'non-task-oriented_dialogues']\n",
    "dialogue_corpora_groups = ['kvret_dialogues', 'babl_dialogues', 'scose_dialogues', 'cabnc_dialogues']\n",
    "\n",
    "# Get the user label data\n",
    "user_label_data = get_user_label_data(os.path.join(agreement_data_dir, 'user_label_data.pkl'), user_data, labels, sets_list, dialogue_groups)"
   ]
  },
  {
   "cell_type": "code",
   "execution_count": 2,
   "outputs": [],
   "source": [
    "# Might have to update the distance matrix with charlotte and my labels (for ap_types)\n",
    "# from label_distance_utilities import generate_ap_type_distance_matrix, save_distance_matrix\n",
    "\n",
    "# Load the dialogue data\n",
    "# char_data = load_json_data(os.path.join(my_data_dir, 'charlotte.json'))\n",
    "# my_data = load_json_data(os.path.join(my_data_dir, 'n-1.json')) # TODO this might have to include all my data\n",
    "# our_data = [char_data, my_data]\n",
    "#\n",
    "# # Load our unique labels and merge with existing\n",
    "# our_labels = load_labels(labels_dir, our_data)\n",
    "# labels['ap_type'] = list(set(labels['ap_type']).union(set(our_labels['ap_type'])))\n",
    "#\n",
    "# # Generate a new ap_type distance matrix\n",
    "# ap_type_distance_matrix = generate_ap_type_distance_matrix(label_data_dir, labels['ap_type']).sort_index()\n",
    "# save_distance_matrix(label_data_dir, ap_type_distance_matrix, 'ap_type_distance_matrix')"
   ],
   "metadata": {
    "collapsed": false,
    "pycharm": {
     "name": "#%%\n"
    }
   }
  },
  {
   "cell_type": "markdown",
   "source": [
    "# Me and Charlotte's Inter-annotator Agreement for Set 1"
   ],
   "metadata": {
    "collapsed": false,
    "pycharm": {
     "name": "#%% md\n"
    }
   }
  },
  {
   "cell_type": "code",
   "execution_count": 3,
   "outputs": [
    {
     "name": "stdout",
     "output_type": "stream",
     "text": [
      "         alpha             \n",
      "            da   ap ap type\n",
      "practice   1.0  1.0     1.0\n",
      "         beta             \n",
      "           da   ap ap type\n",
      "practice  1.0  1.0     1.0\n",
      "            alpha                    \n",
      "               da        ap   ap type\n",
      "test 28  0.932126  0.882883  0.897416\n",
      "             beta                \n",
      "               da     ap  ap type\n",
      "test 28  0.927285  0.875  0.85955\n",
      "                   alpha                    \n",
      "                      da        ap   ap type\n",
      "task1 test 290  0.636293  0.535714  0.506524\n",
      "                    beta                    \n",
      "                      da        ap   ap type\n",
      "task1 test 290  0.610858  0.533333  0.419214\n",
      "                  alpha                    \n",
      "                     da        ap   ap type\n",
      "jason-mammoth  0.251134  0.164271  0.131057\n",
      "                   beta                    \n",
      "                     da        ap   ap type\n",
      "jason-mammoth  0.243812  0.206831 -0.029164\n",
      "             alpha                    \n",
      "                da        ap   ap type\n",
      "KB7RE015  0.487796  0.532967  0.389951\n",
      "              beta                   \n",
      "                da       ap   ap type\n",
      "KB7RE015  0.478024  0.53125  0.176834\n"
     ]
    }
   ],
   "source": [
    "# Load our dialogue data\n",
    "char_data = load_json_data(os.path.join(my_data_dir, 'charlotte.json'))\n",
    "my_data = load_json_data(os.path.join(my_data_dir, 'n-1.json'))\n",
    "our_data = [char_data, my_data]\n",
    "\n",
    "# Get our label data\n",
    "our_label_data = get_user_label_data(os.path.join(agreement_data_dir, 'nd-cs_label_data.pkl'), our_data, labels, sets_list, dialogue_groups)\n",
    "\n",
    "# Get unique dialogues in set 1 and all groups\n",
    "dialogue_list = [x['dialogue_id'] for x in my_data['dialogues']]\n",
    "groups = ['practice_dialogue'] + dialogue_corpora_groups\n",
    "# For each calculate alpha and beta\n",
    "for group in groups:\n",
    "    for dialogue in dialogue_list:\n",
    "        if dialogue in our_label_data[group].keys():\n",
    "            # Get the dialogue data\n",
    "            dialogue_data = {dialogue: our_label_data[group][dialogue]}\n",
    "\n",
    "            # Calculate Alpha and Beta\n",
    "            alpha_r = get_weighted_agreement(dialogue_data, labels, 'alpha', add_mean=False, postfix_only=False)\n",
    "            print(alpha_r)\n",
    "            beta_r = get_weighted_agreement(dialogue_data, labels, 'beta', add_mean=False, postfix_only=False)\n",
    "            print(beta_r)"
   ],
   "metadata": {
    "collapsed": false,
    "pycharm": {
     "name": "#%%\n"
    }
   }
  }
 ],
 "metadata": {
  "kernelspec": {
   "display_name": "Python 3",
   "language": "python",
   "name": "python3"
  },
  "language_info": {
   "codemirror_mode": {
    "name": "ipython",
    "version": 2
   },
   "file_extension": ".py",
   "mimetype": "text/x-python",
   "name": "python",
   "nbconvert_exporter": "python",
   "pygments_lexer": "ipython2",
   "version": "2.7.6"
  }
 },
 "nbformat": 4,
 "nbformat_minor": 0
}